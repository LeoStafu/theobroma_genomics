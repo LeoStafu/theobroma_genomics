{
 "cells": [
  {
   "cell_type": "code",
   "execution_count": 110,
   "metadata": {},
   "outputs": [],
   "source": [
    "from Bio import Seq\n",
    "from Bio import SeqIO\n",
    "import subprocess\n",
    "import re"
   ]
  },
  {
   "cell_type": "markdown",
   "metadata": {},
   "source": [
    "Files should be filled with sequences for which we want to plot a Ka / Ks distribution. "
   ]
  },
  {
   "cell_type": "code",
   "execution_count": 130,
   "metadata": {},
   "outputs": [],
   "source": [
    "file_pep = \"test_data/prot.fst\"\n",
    "file_cds = \"test_data/cds.fst\""
   ]
  },
  {
   "cell_type": "code",
   "execution_count": null,
   "metadata": {},
   "outputs": [],
   "source": []
  },
  {
   "cell_type": "code",
   "execution_count": 131,
   "metadata": {},
   "outputs": [],
   "source": [
    "pep_list = list(SeqIO.parse(file_pep, \"fasta\"))\n",
    "cds_list = list(SeqIO.parse(file_cds, \"fasta\"))\n",
    "nb_seq = len(pep_list)\n",
    "all_ka = list()\n",
    "all_ks = list()"
   ]
  },
  {
   "cell_type": "code",
   "execution_count": 132,
   "metadata": {},
   "outputs": [
    {
     "name": "stdout",
     "output_type": "stream",
     "text": [
      "0   1\n"
     ]
    }
   ],
   "source": [
    "for i in range(0, nb_seq-1):\n",
    "    for j in range(i+1, nb_seq):\n",
    "        print(i, \" \", j)"
   ]
  },
  {
   "cell_type": "code",
   "execution_count": 137,
   "metadata": {},
   "outputs": [],
   "source": [
    "for i in range(0, nb_seq-1):\n",
    "    for j in range(i+1, nb_seq):\n",
    "        with open(\"tmp_pep.fa\", \"w\") as OUT_pep:\n",
    "            SeqIO.write(pep_list[i], OUT_pep, \"fasta\")\n",
    "            SeqIO.write(pep_list[j], OUT_pep, \"fasta\")\n",
    "        with open(\"tmp_cds.fa\", \"w\") as OUT_cds:\n",
    "            SeqIO.write(cds_list[i], OUT_cds, \"fasta\")\n",
    "            SeqIO.write(cds_list[j], OUT_cds, \"fasta\")\n",
    "            \n",
    "        cmd = \"./paml_run.sh tmp_pep.fa tmp_cds.fa\"\n",
    "        subprocess.run(cmd, stdout = subprocess.PIPE, stderr = subprocess.PIPE, shell = True)\n",
    "        \n",
    "        # Line with Ks and Ka values in yn result file is the only one starting with \n",
    "        res_line = \"\".join([line for line in open('yn') if re.match('^\\s+[0-9]',line)])\n",
    "        res_line = re.split(\"\\s+\", res_line)\n",
    "        all_ka.append(res_line[8])\n",
    "        all_ks.append(res_line[11])\n",
    "        subprocess.run(\"rm 2YN.* cds.ali.phy prot.ali.aln res rst rst1 rub tmp_pep.dnd yn \", \n",
    "                       stdout = subprocess.PIPE, stderr = subprocess.PIPE, shell = True)\n",
    "\n",
    "    "
   ]
  },
  {
   "cell_type": "code",
   "execution_count": 139,
   "metadata": {},
   "outputs": [
    {
     "data": {
      "text/plain": [
       "['3.9957', '3.9957']"
      ]
     },
     "execution_count": 139,
     "metadata": {},
     "output_type": "execute_result"
    }
   ],
   "source": [
    "all_ks\n"
   ]
  },
  {
   "cell_type": "code",
   "execution_count": null,
   "metadata": {},
   "outputs": [],
   "source": []
  },
  {
   "cell_type": "code",
   "execution_count": null,
   "metadata": {},
   "outputs": [],
   "source": []
  },
  {
   "cell_type": "code",
   "execution_count": null,
   "metadata": {},
   "outputs": [],
   "source": []
  },
  {
   "cell_type": "code",
   "execution_count": null,
   "metadata": {},
   "outputs": [],
   "source": []
  },
  {
   "cell_type": "code",
   "execution_count": null,
   "metadata": {},
   "outputs": [],
   "source": []
  },
  {
   "cell_type": "code",
   "execution_count": null,
   "metadata": {},
   "outputs": [],
   "source": []
  },
  {
   "cell_type": "code",
   "execution_count": null,
   "metadata": {},
   "outputs": [],
   "source": []
  },
  {
   "cell_type": "code",
   "execution_count": null,
   "metadata": {},
   "outputs": [],
   "source": []
  },
  {
   "cell_type": "code",
   "execution_count": null,
   "metadata": {},
   "outputs": [],
   "source": []
  }
 ],
 "metadata": {
  "kernelspec": {
   "display_name": "Python 3",
   "language": "python",
   "name": "python3"
  },
  "language_info": {
   "codemirror_mode": {
    "name": "ipython",
    "version": 3
   },
   "file_extension": ".py",
   "mimetype": "text/x-python",
   "name": "python",
   "nbconvert_exporter": "python",
   "pygments_lexer": "ipython3",
   "version": "3.6.6"
  }
 },
 "nbformat": 4,
 "nbformat_minor": 2
}
