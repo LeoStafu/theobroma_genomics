{
 "cells": [
  {
   "cell_type": "markdown",
   "metadata": {},
   "source": [
    "# Isoforms selection"
   ]
  },
  {
   "cell_type": "code",
   "execution_count": 2,
   "metadata": {},
   "outputs": [],
   "source": [
    "from Bio import SeqIO\n",
    "import pandas as pd"
   ]
  },
  {
   "cell_type": "code",
   "execution_count": 3,
   "metadata": {},
   "outputs": [],
   "source": [
    "isoform_stats = {\"gene\" : [] ,\n",
    "                 \"transcript\" : [] ,\n",
    "                 \"length\" : []}"
   ]
  },
  {
   "cell_type": "code",
   "execution_count": 4,
   "metadata": {},
   "outputs": [],
   "source": [
    "# parsing the input multifasta file\n",
    "for s in SeqIO.parse(\"source_data/Theobroma_cacao.Theobroma_cacao_20110822.pep.all.fa\", \"fasta\"):\n",
    "    isoform_stats['gene'].append(s.description.split(\" \")[3])\n",
    "    isoform_stats['transcript'].append( s.description.split(\" \")[4])\n",
    "    isoform_stats['length'].append(str(len(s.seq)))   "
   ]
  },
  {
   "cell_type": "code",
   "execution_count": 5,
   "metadata": {
    "scrolled": true
   },
   "outputs": [],
   "source": [
    "# generating the gene list (without dupicates) for the parsed\n",
    "# multifasta file \n",
    "isoform_stats = pd.DataFrame(isoform_stats)\n",
    "genes = list(set(isoform_stats['gene']))"
   ]
  },
  {
   "cell_type": "code",
   "execution_count": 6,
   "metadata": {
    "scrolled": true
   },
   "outputs": [],
   "source": [
    "# pandas data frame for selected isoforms\n",
    "selected_isoforms = pd.DataFrame({\"gene\" : [] ,\n",
    "                                  \"transcript\" : [],\n",
    "                                  \"length\" : []})\n",
    "# isoform selection; the longest isoform is selected for\n",
    "# each gene in \"genes\"\n",
    "for i in range(0, len(genes)) :\n",
    "    gene = genes[i]\n",
    "    isoforms = isoform_stats.loc[isoform_stats['gene'] == gene]\n",
    "    isoforms = isoforms.sort_values(by = ['length'], ascending = False)\n",
    "    selected_isoforms = selected_isoforms.append(isoforms.head(1))"
   ]
  },
  {
   "cell_type": "code",
   "execution_count": 25,
   "metadata": {},
   "outputs": [],
   "source": [
    "# run to display the array of the selected\n",
    "# isoforms\n",
    "selected_isoforms = selected_isoforms.sort_index()\n",
    "list_ind = list(selected_isoforms.index)"
   ]
  },
  {
   "cell_type": "code",
   "execution_count": 26,
   "metadata": {
    "scrolled": true
   },
   "outputs": [],
   "source": [
    "with open(\"selected_isoforms.fasta\", \"w\") as OUT:\n",
    "    i = 0\n",
    "    for seq in SeqIO.parse(\"./source_data/Theobroma_cacao.Theobroma_cacao_20110822.pep.all.fa\", \"fasta\"):\n",
    "        if i == list_ind[0]:\n",
    "            SeqIO.write(seq, OUT, \"fasta\")\n",
    "            list_ind.pop(0)\n",
    "        i += 1"
   ]
  }
 ],
 "metadata": {
  "kernelspec": {
   "display_name": "Python 3",
   "language": "python",
   "name": "python3"
  },
  "language_info": {
   "codemirror_mode": {
    "name": "ipython",
    "version": 3
   },
   "file_extension": ".py",
   "mimetype": "text/x-python",
   "name": "python",
   "nbconvert_exporter": "python",
   "pygments_lexer": "ipython3",
   "version": "3.6.6"
  }
 },
 "nbformat": 4,
 "nbformat_minor": 2
}
