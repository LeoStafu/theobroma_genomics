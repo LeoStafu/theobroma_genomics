{
 "cells": [
  {
   "cell_type": "code",
<<<<<<< HEAD
   "execution_count": 1,
=======
   "execution_count": 38,
>>>>>>> 09fc30693639829785e9d123df834868ad870c91
   "metadata": {
    "scrolled": true
   },
   "outputs": [],
   "source": [
    "from Bio import Seq\n",
    "from Bio import SeqIO\n",
    "import subprocess\n",
    "import re\n",
    "import pandas as pd\n",
    "import matplotlib.pyplot as plot"
   ]
  },
  {
   "cell_type": "code",
<<<<<<< HEAD:CEB_to_Ka_Ks_values.ipynb

=======
<<<<<<< HEAD
   "execution_count": 3,
=======
>>>>>>> 5047382af2ff9017c14be6ab7cbbdf9f38173c02:CEB_to_Fasta.ipynb
   "execution_count": 66,
>>>>>>> 09fc30693639829785e9d123df834868ad870c91
   "metadata": {},
   "outputs": [],
   "source": [
    "raw_seq_prot = list(SeqIO.parse(\"source_data/Theobroma_cacao.Theobroma_cacao_20110822.pep.all.fa\", \"fasta\"))\n",
    "raw_seq_cds = list(SeqIO.parse(\"source_data/Theobroma_cacao.Theobroma_cacao_20110822.cds.all.fa\", \"fasta\"))\n"
   ]
  },
  {
   "cell_type": "code",
<<<<<<< HEAD:CEB_to_Ka_Ks_values.ipynb

=======
<<<<<<< HEAD
   "execution_count": 4,
=======
>>>>>>> 5047382af2ff9017c14be6ab7cbbdf9f38173c02:CEB_to_Fasta.ipynb
   "execution_count": 40,
>>>>>>> 09fc30693639829785e9d123df834868ad870c91
   "metadata": {},
   "outputs": [],
   "source": [
    "# ceb = pd.read_table(\"data_CEB/ID50Length100\", sep=\",\")\n",
    "ceb = pd.read_table(\"families_filter30-70.tabular\", sep=\"\\t\")"
   ]
  },
  {
   "cell_type": "code",
<<<<<<< HEAD:CEB_to_Ka_Ks_values.ipynb

   "execution_count": 41,

=======
<<<<<<< HEAD
   "execution_count": 5,
=======
   "execution_count": 41,
>>>>>>> 09fc30693639829785e9d123df834868ad870c91
>>>>>>> 5047382af2ff9017c14be6ab7cbbdf9f38173c02:CEB_to_Fasta.ipynb
   "metadata": {},
   "outputs": [
    {
     "data": {
      "text/plain": [
       "['EOY28430', 'EOX96088', 'EOX93335', 'EOY22594']"
      ]
     },
<<<<<<< HEAD:CEB_to_Ka_Ks_values.ipynb

=======
<<<<<<< HEAD
     "execution_count": 5,
=======
>>>>>>> 5047382af2ff9017c14be6ab7cbbdf9f38173c02:CEB_to_Fasta.ipynb
     "execution_count": 41,
>>>>>>> 09fc30693639829785e9d123df834868ad870c91
     "metadata": {},
     "output_type": "execute_result"
    }
   ],
   "source": [
    "list(ceb[ceb.family == 10][\"geneName\"])"
   ]
  },
  {
   "cell_type": "code",
<<<<<<< HEAD:CEB_to_Ka_Ks_values.ipynb

=======
<<<<<<< HEAD
   "execution_count": 13,
   "metadata": {
    "scrolled": true
   },
   "outputs": [],
   "source": [
    "# get unique family\n",
    "families_set = set(ceb.family)\n",
    "gene_id_by_family = list()\n",
    "\n",
    "for family in families_set:\n",
    "    a = list(ceb[ceb.family == family][\"geneName\"])\n",
    "    gene_id_by_family.append(a)\n"
   ]
  },
  {
   "cell_type": "code",
   "execution_count": 18,
   "metadata": {},
   "outputs": [],
   "source": [
    "gene_id_by_family = [ x[0:2] for x in gene_id_by_family]"
=======
>>>>>>> 5047382af2ff9017c14be6ab7cbbdf9f38173c02:CEB_to_Fasta.ipynb
   "execution_count": 42,
   "metadata": {
    "scrolled": true
   },
   "outputs": [],
   "source": [
    "# get unique family\n",
    "families_set = set(ceb.family)\n",
    "gene_id_by_family = list()\n",
    "\n",
    "for family in families_set:\n",
    "    a = list(ceb[ceb.family == family][\"geneName\"])\n",
    "    gene_id_by_family.append(a)\n"
>>>>>>> 09fc30693639829785e9d123df834868ad870c91
   ]
  },
  {
   "cell_type": "code",
   "execution_count": 37,
   "metadata": {},
   "outputs": [],
   "source": [
    "# check family length\n",
    "# [len(x) for x in gene_id_by_family]\n",
    "# seq_ID_to_write = list(ceb[ceb[\"family\"] == target_family][\"geneName\"])\n",
    "# seq_ID_to_write = list(ceb[0:500][\"geneName\"])"
   ]
  },
  {
   "cell_type": "code",
<<<<<<< HEAD:CEB_to_Ka_Ks_values.ipynb

=======
<<<<<<< HEAD
   "execution_count": 19,
=======
>>>>>>> 5047382af2ff9017c14be6ab7cbbdf9f38173c02:CEB_to_Fasta.ipynb
   "execution_count": 72,
>>>>>>> 09fc30693639829785e9d123df834868ad870c91
   "metadata": {},
   "outputs": [],
   "source": [
    "all_ka = list()\n",
    "all_ks = list()"
   ]
  },
  {
   "cell_type": "code",
<<<<<<< HEAD
   "execution_count": 20,
=======
   "execution_count": 73,
>>>>>>> 09fc30693639829785e9d123df834868ad870c91
   "metadata": {},
   "outputs": [
    {
     "ename": "KeyboardInterrupt",
     "evalue": "",
     "output_type": "error",
     "traceback": [
      "\u001b[0;31m---------------------------------------------------------------------------\u001b[0m",
      "\u001b[0;31mKeyboardInterrupt\u001b[0m                         Traceback (most recent call last)",
      "\u001b[0;32m<ipython-input-73-81cc0bd9d783>\u001b[0m in \u001b[0;36m<module>\u001b[0;34m\u001b[0m\n\u001b[1;32m     25\u001b[0m \u001b[0;34m\u001b[0m\u001b[0m\n\u001b[1;32m     26\u001b[0m             \u001b[0mcmd\u001b[0m \u001b[0;34m=\u001b[0m \u001b[0;34m\"./paml_run.sh tmp_pep.fa tmp_cds.fa\"\u001b[0m\u001b[0;34m\u001b[0m\u001b[0;34m\u001b[0m\u001b[0m\n\u001b[0;32m---> 27\u001b[0;31m             \u001b[0msubprocess\u001b[0m\u001b[0;34m.\u001b[0m\u001b[0mrun\u001b[0m\u001b[0;34m(\u001b[0m\u001b[0mcmd\u001b[0m\u001b[0;34m,\u001b[0m \u001b[0mstdout\u001b[0m \u001b[0;34m=\u001b[0m \u001b[0msubprocess\u001b[0m\u001b[0;34m.\u001b[0m\u001b[0mPIPE\u001b[0m\u001b[0;34m,\u001b[0m \u001b[0mstderr\u001b[0m \u001b[0;34m=\u001b[0m \u001b[0msubprocess\u001b[0m\u001b[0;34m.\u001b[0m\u001b[0mPIPE\u001b[0m\u001b[0;34m,\u001b[0m \u001b[0mshell\u001b[0m \u001b[0;34m=\u001b[0m \u001b[0;32mTrue\u001b[0m\u001b[0;34m)\u001b[0m\u001b[0;34m\u001b[0m\u001b[0;34m\u001b[0m\u001b[0m\n\u001b[0m\u001b[1;32m     28\u001b[0m \u001b[0;34m\u001b[0m\u001b[0m\n\u001b[1;32m     29\u001b[0m             \u001b[0;31m# Line with Ks and Ka values in yn result file is the only one starting with\u001b[0m\u001b[0;34m\u001b[0m\u001b[0;34m\u001b[0m\u001b[0;34m\u001b[0m\u001b[0m\n",
      "\u001b[0;32m/usr/lib/python3.6/subprocess.py\u001b[0m in \u001b[0;36mrun\u001b[0;34m(input, timeout, check, *popenargs, **kwargs)\u001b[0m\n\u001b[1;32m    403\u001b[0m     \u001b[0;32mwith\u001b[0m \u001b[0mPopen\u001b[0m\u001b[0;34m(\u001b[0m\u001b[0;34m*\u001b[0m\u001b[0mpopenargs\u001b[0m\u001b[0;34m,\u001b[0m \u001b[0;34m**\u001b[0m\u001b[0mkwargs\u001b[0m\u001b[0;34m)\u001b[0m \u001b[0;32mas\u001b[0m \u001b[0mprocess\u001b[0m\u001b[0;34m:\u001b[0m\u001b[0;34m\u001b[0m\u001b[0;34m\u001b[0m\u001b[0m\n\u001b[1;32m    404\u001b[0m         \u001b[0;32mtry\u001b[0m\u001b[0;34m:\u001b[0m\u001b[0;34m\u001b[0m\u001b[0;34m\u001b[0m\u001b[0m\n\u001b[0;32m--> 405\u001b[0;31m             \u001b[0mstdout\u001b[0m\u001b[0;34m,\u001b[0m \u001b[0mstderr\u001b[0m \u001b[0;34m=\u001b[0m \u001b[0mprocess\u001b[0m\u001b[0;34m.\u001b[0m\u001b[0mcommunicate\u001b[0m\u001b[0;34m(\u001b[0m\u001b[0minput\u001b[0m\u001b[0;34m,\u001b[0m \u001b[0mtimeout\u001b[0m\u001b[0;34m=\u001b[0m\u001b[0mtimeout\u001b[0m\u001b[0;34m)\u001b[0m\u001b[0;34m\u001b[0m\u001b[0;34m\u001b[0m\u001b[0m\n\u001b[0m\u001b[1;32m    406\u001b[0m         \u001b[0;32mexcept\u001b[0m \u001b[0mTimeoutExpired\u001b[0m\u001b[0;34m:\u001b[0m\u001b[0;34m\u001b[0m\u001b[0;34m\u001b[0m\u001b[0m\n\u001b[1;32m    407\u001b[0m             \u001b[0mprocess\u001b[0m\u001b[0;34m.\u001b[0m\u001b[0mkill\u001b[0m\u001b[0;34m(\u001b[0m\u001b[0;34m)\u001b[0m\u001b[0;34m\u001b[0m\u001b[0;34m\u001b[0m\u001b[0m\n",
      "\u001b[0;32m/usr/lib/python3.6/subprocess.py\u001b[0m in \u001b[0;36mcommunicate\u001b[0;34m(self, input, timeout)\u001b[0m\n\u001b[1;32m    841\u001b[0m \u001b[0;34m\u001b[0m\u001b[0m\n\u001b[1;32m    842\u001b[0m             \u001b[0;32mtry\u001b[0m\u001b[0;34m:\u001b[0m\u001b[0;34m\u001b[0m\u001b[0;34m\u001b[0m\u001b[0m\n\u001b[0;32m--> 843\u001b[0;31m                 \u001b[0mstdout\u001b[0m\u001b[0;34m,\u001b[0m \u001b[0mstderr\u001b[0m \u001b[0;34m=\u001b[0m \u001b[0mself\u001b[0m\u001b[0;34m.\u001b[0m\u001b[0m_communicate\u001b[0m\u001b[0;34m(\u001b[0m\u001b[0minput\u001b[0m\u001b[0;34m,\u001b[0m \u001b[0mendtime\u001b[0m\u001b[0;34m,\u001b[0m \u001b[0mtimeout\u001b[0m\u001b[0;34m)\u001b[0m\u001b[0;34m\u001b[0m\u001b[0;34m\u001b[0m\u001b[0m\n\u001b[0m\u001b[1;32m    844\u001b[0m             \u001b[0;32mfinally\u001b[0m\u001b[0;34m:\u001b[0m\u001b[0;34m\u001b[0m\u001b[0;34m\u001b[0m\u001b[0m\n\u001b[1;32m    845\u001b[0m                 \u001b[0mself\u001b[0m\u001b[0;34m.\u001b[0m\u001b[0m_communication_started\u001b[0m \u001b[0;34m=\u001b[0m \u001b[0;32mTrue\u001b[0m\u001b[0;34m\u001b[0m\u001b[0;34m\u001b[0m\u001b[0m\n",
      "\u001b[0;32m/usr/lib/python3.6/subprocess.py\u001b[0m in \u001b[0;36m_communicate\u001b[0;34m(self, input, endtime, orig_timeout)\u001b[0m\n\u001b[1;32m   1512\u001b[0m                         \u001b[0;32mraise\u001b[0m \u001b[0mTimeoutExpired\u001b[0m\u001b[0;34m(\u001b[0m\u001b[0mself\u001b[0m\u001b[0;34m.\u001b[0m\u001b[0margs\u001b[0m\u001b[0;34m,\u001b[0m \u001b[0morig_timeout\u001b[0m\u001b[0;34m)\u001b[0m\u001b[0;34m\u001b[0m\u001b[0;34m\u001b[0m\u001b[0m\n\u001b[1;32m   1513\u001b[0m \u001b[0;34m\u001b[0m\u001b[0m\n\u001b[0;32m-> 1514\u001b[0;31m                     \u001b[0mready\u001b[0m \u001b[0;34m=\u001b[0m \u001b[0mselector\u001b[0m\u001b[0;34m.\u001b[0m\u001b[0mselect\u001b[0m\u001b[0;34m(\u001b[0m\u001b[0mtimeout\u001b[0m\u001b[0;34m)\u001b[0m\u001b[0;34m\u001b[0m\u001b[0;34m\u001b[0m\u001b[0m\n\u001b[0m\u001b[1;32m   1515\u001b[0m                     \u001b[0mself\u001b[0m\u001b[0;34m.\u001b[0m\u001b[0m_check_timeout\u001b[0m\u001b[0;34m(\u001b[0m\u001b[0mendtime\u001b[0m\u001b[0;34m,\u001b[0m \u001b[0morig_timeout\u001b[0m\u001b[0;34m)\u001b[0m\u001b[0;34m\u001b[0m\u001b[0;34m\u001b[0m\u001b[0m\n\u001b[1;32m   1516\u001b[0m \u001b[0;34m\u001b[0m\u001b[0m\n",
      "\u001b[0;32m/usr/lib/python3.6/selectors.py\u001b[0m in \u001b[0;36mselect\u001b[0;34m(self, timeout)\u001b[0m\n\u001b[1;32m    374\u001b[0m             \u001b[0mready\u001b[0m \u001b[0;34m=\u001b[0m \u001b[0;34m[\u001b[0m\u001b[0;34m]\u001b[0m\u001b[0;34m\u001b[0m\u001b[0;34m\u001b[0m\u001b[0m\n\u001b[1;32m    375\u001b[0m             \u001b[0;32mtry\u001b[0m\u001b[0;34m:\u001b[0m\u001b[0;34m\u001b[0m\u001b[0;34m\u001b[0m\u001b[0m\n\u001b[0;32m--> 376\u001b[0;31m                 \u001b[0mfd_event_list\u001b[0m \u001b[0;34m=\u001b[0m \u001b[0mself\u001b[0m\u001b[0;34m.\u001b[0m\u001b[0m_poll\u001b[0m\u001b[0;34m.\u001b[0m\u001b[0mpoll\u001b[0m\u001b[0;34m(\u001b[0m\u001b[0mtimeout\u001b[0m\u001b[0;34m)\u001b[0m\u001b[0;34m\u001b[0m\u001b[0;34m\u001b[0m\u001b[0m\n\u001b[0m\u001b[1;32m    377\u001b[0m             \u001b[0;32mexcept\u001b[0m \u001b[0mInterruptedError\u001b[0m\u001b[0;34m:\u001b[0m\u001b[0;34m\u001b[0m\u001b[0;34m\u001b[0m\u001b[0m\n\u001b[1;32m    378\u001b[0m                 \u001b[0;32mreturn\u001b[0m \u001b[0mready\u001b[0m\u001b[0;34m\u001b[0m\u001b[0;34m\u001b[0m\u001b[0m\n",
      "\u001b[0;31mKeyboardInterrupt\u001b[0m: "
     ]
    }
   ],
   "source": [
    "\n",
    "for IDs in gene_id_by_family:\n",
    "    with open(\"target_pep.fa\", \"w\") as OUT_pep:\n",
    "        for seq in raw_seq_prot:\n",
    "            if seq.id in IDs:\n",
    "                SeqIO.write(seq, OUT_pep, \"fasta\")\n",
    "\n",
    "    with open(\"target_cds.fa\", \"w\") as OUT_cds:\n",
    "        for seq in raw_seq_cds:\n",
    "            if seq.id in IDs:\n",
    "                SeqIO.write(seq, OUT_cds, \"fasta\")\n",
    "        \n",
    "    pep_list = list(SeqIO.parse(\"target_pep.fa\", \"fasta\"))\n",
    "    cds_list = list(SeqIO.parse(\"target_cds.fa\", \"fasta\"))\n",
    "    nb_seq = len(pep_list)\n",
    "    \n",
    "    for i in range(0, nb_seq-1):\n",
    "        for j in range(i+1, nb_seq):\n",
    "            with open(\"tmp_pep.fa\", \"w\") as OUT_pep:\n",
    "                SeqIO.write(pep_list[i], OUT_pep, \"fasta\")\n",
    "                SeqIO.write(pep_list[j], OUT_pep, \"fasta\")\n",
    "            with open(\"tmp_cds.fa\", \"w\") as OUT_cds:\n",
    "                SeqIO.write(cds_list[i], OUT_cds, \"fasta\")\n",
    "                SeqIO.write(cds_list[j], OUT_cds, \"fasta\")\n",
    "\n",
    "            cmd = \"./paml_run.sh tmp_pep.fa tmp_cds.fa\"\n",
    "            subprocess.run(cmd, stdout = subprocess.PIPE, stderr = subprocess.PIPE, shell = True)\n",
    "\n",
    "            # Line with Ks and Ka values in yn result file is the only one starting with \n",
    "            res_line = \"\".join([line for line in open('yn') if re.match('^\\s+[0-9]',line)])\n",
    "            res_line = re.split(\"\\s+\", res_line)\n",
    "            all_ka.append(res_line[8])\n",
    "            all_ks.append(res_line[11])\n",
    "            subprocess.run(\"rm 2YN.* cds.ali.phy prot.ali.aln res rst rst1 rub tmp_pep.dnd yn \", \n",
    "                           stdout = subprocess.PIPE, stderr = subprocess.PIPE, shell = True)\n",
    "\n",
    "    "
   ]
  },
  {
   "cell_type": "code",
<<<<<<< HEAD:CEB_to_Ka_Ks_values.ipynb
   "execution_count": 42,
   "metadata": {},
   "outputs": [],
   "source": [
    "OUT_ka_ks = open(\"ka_ks_values\", \"w\")\n",
    "OUT_ka_ks.write(\"ka;ks;ratio\\n\")\n",
    "for i in range(len(all_ka)):\n",
    "        if float(all_ks[i]) == 0:\n",
    "            ratio = 0\n",
    "        else :\n",
    "            ratio = float(all_ka[i]) / float(all_ks[i])\n",
    "        OUT_ka_ks.write(str(all_ka[i]) + \";\" + str(all_ks[i]) + \";\" + str(ratio) + \"\\n\" )\n",
    "OUT_ka_ks.close()"

=======
<<<<<<< HEAD
   "execution_count": 42,
   "metadata": {},
   "outputs": [],
   "source": [
    "OUT_ka_ks = open(\"ka_ks_values\", \"w\")\n",
    "OUT_ka_ks.write(\"ka;ks;ratio\\n\")\n",
    "for i in range(len(all_ka)):\n",
    "        if float(all_ks[i]) == 0:\n",
    "            ratio = 0\n",
    "        else :\n",
    "            ratio = float(all_ka[i]) / float(all_ks[i])\n",
    "        OUT_ka_ks.write(str(all_ka[i]) + \";\" + str(all_ks[i]) + \";\" + str(ratio) + \"\\n\" )\n",
    "OUT_ka_ks.close()"
=======
   "execution_count": 70,
   "metadata": {},
   "outputs": [],
   "source": [
    "OUT_pep = open(\"target_pep.fa\", \"w\")\n",
    "for seq in raw_seq_prot:\n",
    "    if seq.id in IDs:\n",
    "        SeqIO.write(seq, OUT_pep, \"fasta\")\n",
    "OUT_pep.close()"
>>>>>>> 09fc30693639829785e9d123df834868ad870c91
>>>>>>> 5047382af2ff9017c14be6ab7cbbdf9f38173c02:CEB_to_Fasta.ipynb
   ]
  },
  {
   "cell_type": "code",
   "execution_count": null,
   "metadata": {},
   "outputs": [],
   "source": []
  },
  {
   "cell_type": "code",
   "execution_count": null,
   "metadata": {},
   "outputs": [],
   "source": []
  },
  {
   "cell_type": "code",
   "execution_count": null,
   "metadata": {},
   "outputs": [],
   "source": []
  },
  {
   "cell_type": "code",
   "execution_count": null,
   "metadata": {},
   "outputs": [],
   "source": []
  },
  {
   "cell_type": "code",
   "execution_count": null,
   "metadata": {},
   "outputs": [],
   "source": []
  },
  {
   "cell_type": "code",
   "execution_count": null,
   "metadata": {},
   "outputs": [],
   "source": []
  },
  {
   "cell_type": "code",
   "execution_count": null,
   "metadata": {},
   "outputs": [],
   "source": []
  },
  {
   "cell_type": "code",
   "execution_count": null,
   "metadata": {},
   "outputs": [],
   "source": []
<<<<<<< HEAD:CEB_to_Ka_Ks_values.ipynb

=======
<<<<<<< HEAD
=======
>>>>>>> 5047382af2ff9017c14be6ab7cbbdf9f38173c02:CEB_to_Fasta.ipynb
  },
  {
   "cell_type": "code",
   "execution_count": null,
   "metadata": {},
   "outputs": [],
   "source": []
>>>>>>> 09fc30693639829785e9d123df834868ad870c91
  }
 ],
 "metadata": {
  "kernelspec": {
   "display_name": "Python 3",
   "language": "python",
   "name": "python3"
  },
  "language_info": {
   "codemirror_mode": {
    "name": "ipython",
    "version": 3
   },
   "file_extension": ".py",
   "mimetype": "text/x-python",
   "name": "python",
   "nbconvert_exporter": "python",
   "pygments_lexer": "ipython3",
   "version": "3.6.7"
  }
 },
 "nbformat": 4,
 "nbformat_minor": 2
}
