{
 "cells": [
  {
   "cell_type": "code",
   "execution_count": 10,
   "metadata": {
    "scrolled": true
   },
   "outputs": [],
   "source": [
    "from Bio import Seq\n",
    "from Bio import SeqIO\n",
    "import re\n",
    "import pandas as pd"
   ]
  },
  {
   "cell_type": "code",
   "execution_count": 53,
   "metadata": {},
   "outputs": [],
   "source": [
    "raw_seq_prot = list(SeqIO.parse(\"source_data/Theobroma_cacao.Theobroma_cacao_20110822.pep.all.fa\", \"fasta\"))\n",
    "raw_seq_cds = list(SeqIO.parse(\"source_data/Theobroma_cacao.Theobroma_cacao_20110822.cds.all.fa\", \"fasta\"))\n"
   ]
  },
  {
   "cell_type": "code",
   "execution_count": 54,
   "metadata": {},
   "outputs": [
    {
     "name": "stdout",
     "output_type": "stream",
     "text": [
      "ID: EOY11914\n",
      "Name: EOY11914\n",
      "Description: EOY11914 cds chromosome:Theobroma_cacao_20110822:7:339716:341573:-1 gene:TCM_030568 gene_biotype:protein_coding transcript_biotype:protein_coding description:Cc-nbs-lrr resistance-like protein\n",
      "Number of features: 0\n",
      "Seq('ATGGCAGATGCAGCCATTGCAGCAGCAATCTTTCTGATCGAGAAGGTATCAAGC...TAG', SingleLetterAlphabet())\n"
     ]
    }
   ],
   "source": [
    "print(raw_seq_cds[0])"
   ]
  },
  {
   "cell_type": "code",
   "execution_count": 55,
   "metadata": {},
   "outputs": [],
   "source": [
    "ceb = pd.read_table(\"data_CEB/ID50Length100\", sep=\",\")"
   ]
  },
  {
   "cell_type": "code",
   "execution_count": 56,
   "metadata": {},
   "outputs": [],
   "source": [
    "# Will be more convenient to set as a parameter afterward\n",
    "target_seq_ID = \"EOY34598\"\n",
    "target_family = int(ceb[ceb[\"gene\"] == target_seq_ID][\"family\"])"
   ]
  },
  {
   "cell_type": "code",
   "execution_count": 57,
   "metadata": {},
   "outputs": [],
   "source": [
    "seq_ID_to_write = list(ceb[ceb[\"family\"] == target_family][\"gene\"])"
   ]
  },
  {
   "cell_type": "code",
   "execution_count": 60,
   "metadata": {},
   "outputs": [],
   "source": [
    "with open(\"target_pep.fa\", \"w\") as OUT_pep:\n",
    "    with open(\"target_cds.fa\", \"w\") as OUT_cds:\n",
    "        for i in range(0, len(raw_seq_cds)-1):\n",
    "            if raw_seq_cds[i].id in seq_ID_to_write:\n",
    "                SeqIO.write(raw_seq_prot[i], OUT_pep, \"fasta\")\n",
    "                SeqIO.write(raw_seq_cds[i], OUT_cds, \"fasta\")\n"
   ]
  },
  {
   "cell_type": "code",
   "execution_count": 58,
   "metadata": {},
   "outputs": [
    {
     "data": {
      "text/plain": [
       "['EOY34598', 'EOY34597', 'EOY34601', 'EOY34602', 'EOY34599', 'EOY34600']"
      ]
     },
     "execution_count": 58,
     "metadata": {},
     "output_type": "execute_result"
    }
   ],
   "source": [
    "seq_ID_to_write\n"
   ]
  }
 ],
 "metadata": {
  "kernelspec": {
   "display_name": "Python 3",
   "language": "python",
   "name": "python3"
  },
  "language_info": {
   "codemirror_mode": {
    "name": "ipython",
    "version": 3
   },
   "file_extension": ".py",
   "mimetype": "text/x-python",
   "name": "python",
   "nbconvert_exporter": "python",
   "pygments_lexer": "ipython3",
   "version": "3.6.6"
  }
 },
 "nbformat": 4,
 "nbformat_minor": 2
}
